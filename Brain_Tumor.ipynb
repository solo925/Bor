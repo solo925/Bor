{
  "metadata": {
    "kernelspec": {
      "language": "python",
      "display_name": "Python 3",
      "name": "python3"
    },
    "language_info": {
      "pygments_lexer": "ipython3",
      "nbconvert_exporter": "python",
      "version": "3.6.4",
      "file_extension": ".py",
      "codemirror_mode": {
        "name": "ipython",
        "version": 3
      },
      "name": "python",
      "mimetype": "text/x-python"
    },
    "colab": {
      "name": "Brain Tumor",
      "provenance": [],
      "include_colab_link": true
    }
  },
  "nbformat_minor": 0,
  "nbformat": 4,
  "cells": [
    {
      "cell_type": "markdown",
      "metadata": {
        "id": "view-in-github",
        "colab_type": "text"
      },
      "source": [
        "<a href=\"https://colab.research.google.com/github/solo925/Bor/blob/main/Brain_Tumor.ipynb\" target=\"_parent\"><img src=\"https://colab.research.google.com/assets/colab-badge.svg\" alt=\"Open In Colab\"/></a>"
      ]
    },
    {
      "source": [
        "\n",
        "# IMPORTANT: RUN THIS CELL IN ORDER TO IMPORT YOUR KAGGLE DATA SOURCES\n",
        "# TO THE CORRECT LOCATION (/kaggle/input) IN YOUR NOTEBOOK,\n",
        "# THEN FEEL FREE TO DELETE THIS CELL.\n",
        "# NOTE: THIS NOTEBOOK ENVIRONMENT DIFFERS FROM KAGGLE'S PYTHON\n",
        "# ENVIRONMENT SO THERE MAY BE MISSING LIBRARIES USED BY YOUR\n",
        "# NOTEBOOK.\n",
        "\n",
        "import os\n",
        "import sys\n",
        "from tempfile import NamedTemporaryFile\n",
        "from urllib.request import urlopen\n",
        "from urllib.parse import unquote, urlparse\n",
        "from urllib.error import HTTPError\n",
        "from zipfile import ZipFile\n",
        "import tarfile\n",
        "import shutil\n",
        "\n",
        "CHUNK_SIZE = 40960\n",
        "DATA_SOURCE_MAPPING = 'brain-tumor-classification-mri:https%3A%2F%2Fstorage.googleapis.com%2Fkaggle-data-sets%2F672377%2F1183165%2Fbundle%2Farchive.zip%3FX-Goog-Algorithm%3DGOOG4-RSA-SHA256%26X-Goog-Credential%3Dgcp-kaggle-com%2540kaggle-161607.iam.gserviceaccount.com%252F20240415%252Fauto%252Fstorage%252Fgoog4_request%26X-Goog-Date%3D20240415T083602Z%26X-Goog-Expires%3D259200%26X-Goog-SignedHeaders%3Dhost%26X-Goog-Signature%3D36f1205c2abfc384ea31c2ddfeddc8f4732886221230d7e3cd96b6244008d910dc84faa1c331a15b3761978ee3ebea08277e7d077861d2709059f41c5312a71f8ea2002f170e23212525b8f8c27085ca9af330e84a99d0903e92efa070596486813d11b13fe80dc602f20b552d63ff3d2b59adb163391fd57113c25861e4d2479fcec7bcfdd2f2103aaac84c0275875f6a3d8ceade6d12cf2d5834e946c26e838cc002945b497e896ce4d2ff83ede0dcd15c16effa8b74aedac16e38a86ecee328a72109f6a660d7543785ab9e067893f7f13062c3a6251bb0bbfd4a4dab557f2900427f69898e06232fc425bdc31173561af89c119a5e61f65677c7075efc18'\n",
        "\n",
        "KAGGLE_INPUT_PATH='/kaggle/input'\n",
        "KAGGLE_WORKING_PATH='/kaggle/working'\n",
        "KAGGLE_SYMLINK='kaggle'\n",
        "\n",
        "!umount /kaggle/input/ 2> /dev/null\n",
        "shutil.rmtree('/kaggle/input', ignore_errors=True)\n",
        "os.makedirs(KAGGLE_INPUT_PATH, 0o777, exist_ok=True)\n",
        "os.makedirs(KAGGLE_WORKING_PATH, 0o777, exist_ok=True)\n",
        "\n",
        "try:\n",
        "  os.symlink(KAGGLE_INPUT_PATH, os.path.join(\"..\", 'input'), target_is_directory=True)\n",
        "except FileExistsError:\n",
        "  pass\n",
        "try:\n",
        "  os.symlink(KAGGLE_WORKING_PATH, os.path.join(\"..\", 'working'), target_is_directory=True)\n",
        "except FileExistsError:\n",
        "  pass\n",
        "\n",
        "for data_source_mapping in DATA_SOURCE_MAPPING.split(','):\n",
        "    directory, download_url_encoded = data_source_mapping.split(':')\n",
        "    download_url = unquote(download_url_encoded)\n",
        "    filename = urlparse(download_url).path\n",
        "    destination_path = os.path.join(KAGGLE_INPUT_PATH, directory)\n",
        "    try:\n",
        "        with urlopen(download_url) as fileres, NamedTemporaryFile() as tfile:\n",
        "            total_length = fileres.headers['content-length']\n",
        "            print(f'Downloading {directory}, {total_length} bytes compressed')\n",
        "            dl = 0\n",
        "            data = fileres.read(CHUNK_SIZE)\n",
        "            while len(data) > 0:\n",
        "                dl += len(data)\n",
        "                tfile.write(data)\n",
        "                done = int(50 * dl / int(total_length))\n",
        "                sys.stdout.write(f\"\\r[{'=' * done}{' ' * (50-done)}] {dl} bytes downloaded\")\n",
        "                sys.stdout.flush()\n",
        "                data = fileres.read(CHUNK_SIZE)\n",
        "            if filename.endswith('.zip'):\n",
        "              with ZipFile(tfile) as zfile:\n",
        "                zfile.extractall(destination_path)\n",
        "            else:\n",
        "              with tarfile.open(tfile.name) as tarfile:\n",
        "                tarfile.extractall(destination_path)\n",
        "            print(f'\\nDownloaded and uncompressed: {directory}')\n",
        "    except HTTPError as e:\n",
        "        print(f'Failed to load (likely expired) {download_url} to path {destination_path}')\n",
        "        continue\n",
        "    except OSError as e:\n",
        "        print(f'Failed to load {download_url} to path {destination_path}')\n",
        "        continue\n",
        "\n",
        "print('Data source import complete.')\n"
      ],
      "metadata": {
        "id": "fZIaowB9EwKn"
      },
      "cell_type": "code",
      "outputs": [],
      "execution_count": null
    },
    {
      "cell_type": "code",
      "source": [
        "# This Python 3 environment comes with many helpful analytics libraries installed\n",
        "# It is defined by the kaggle/python Docker image: https://github.com/kaggle/docker-python\n",
        "# For example, here's several helpful packages to load\n",
        "\n",
        "import numpy as np # linear algebra\n",
        "import pandas as pd # data processing, CSV file I/O (e.g. pd.read_csv)\n",
        "\n",
        "# Input data files are available in the read-only \"../input/\" directory\n",
        "# For example, running this (by clicking run or pressing Shift+Enter) will list all files under the input directory\n",
        "\n",
        "import os\n",
        "for dirname, _, filenames in os.walk('/kaggle/input'):\n",
        "    for filename in filenames:\n",
        "        print(os.path.join(dirname, filename))\n",
        "\n",
        "# You can write up to 20GB to the current directory (/kaggle/working/) that gets preserved as output when you create a version using \"Save & Run All\"\n",
        "# You can also write temporary files to /kaggle/temp/, but they won't be saved outside of the current session"
      ],
      "metadata": {
        "_uuid": "8f2839f25d086af736a60e9eeb907d3b93b6e0e5",
        "_cell_guid": "b1076dfc-b9ad-4769-8c92-a6c4dae69d19",
        "execution": {
          "iopub.status.busy": "2022-11-19T07:12:18.60667Z",
          "iopub.execute_input": "2022-11-19T07:12:18.608633Z",
          "iopub.status.idle": "2022-11-19T07:12:19.304019Z",
          "shell.execute_reply.started": "2022-11-19T07:12:18.608504Z",
          "shell.execute_reply": "2022-11-19T07:12:19.302985Z"
        },
        "trusted": true,
        "id": "yiDetfCbEwKn"
      },
      "execution_count": null,
      "outputs": []
    },
    {
      "cell_type": "code",
      "source": [
        "import keras\n",
        "from keras.models import Sequential\n",
        "from keras.layers import Conv2D,Flatten,Dense,MaxPooling2D,Dropout\n",
        "from sklearn.metrics import accuracy_score"
      ],
      "metadata": {
        "execution": {
          "iopub.status.busy": "2022-11-19T07:15:26.338495Z",
          "iopub.execute_input": "2022-11-19T07:15:26.338877Z",
          "iopub.status.idle": "2022-11-19T07:15:26.404272Z",
          "shell.execute_reply.started": "2022-11-19T07:15:26.338844Z",
          "shell.execute_reply": "2022-11-19T07:15:26.402997Z"
        },
        "trusted": true,
        "id": "S4jxWPArEwK4"
      },
      "execution_count": null,
      "outputs": []
    },
    {
      "cell_type": "code",
      "source": [
        "import ipywidgets as widgets\n",
        "import io\n",
        "from PIL import Image\n",
        "import tqdm\n",
        "from sklearn.model_selection import train_test_split\n",
        "import cv2\n",
        "from sklearn.utils import shuffle\n",
        "import tensorflow as tf"
      ],
      "metadata": {
        "execution": {
          "iopub.status.busy": "2022-11-19T07:19:17.638858Z",
          "iopub.execute_input": "2022-11-19T07:19:17.639297Z",
          "iopub.status.idle": "2022-11-19T07:19:17.940405Z",
          "shell.execute_reply.started": "2022-11-19T07:19:17.639261Z",
          "shell.execute_reply": "2022-11-19T07:19:17.938985Z"
        },
        "trusted": true,
        "id": "3gnQ-VzkEwK4"
      },
      "execution_count": null,
      "outputs": []
    },
    {
      "cell_type": "raw",
      "source": [
        "Folder paths"
      ],
      "metadata": {
        "id": "Xy7B94ewEwK4"
      }
    },
    {
      "cell_type": "code",
      "source": [
        "X_train = []\n",
        "Y_train = []\n",
        "image_size = 150\n",
        "labels = ['glioma_tumor','meningioma_tumor','no_tumor','pituitary_tumor']\n",
        "for i in labels:\n",
        "    folderPath = os.path.join('../input/brain-tumor-classification-mri/Training',i)\n",
        "    for j in os.listdir(folderPath):\n",
        "        img = cv2.imread(os.path.join(folderPath,j))\n",
        "        img = cv2.resize(img,(image_size,image_size))\n",
        "        X_train.append(img)\n",
        "        Y_train.append(i)\n",
        "\n",
        "for i in labels:\n",
        "    folderPath = os.path.join('../input/brain-tumor-classification-mri/Testing',i)\n",
        "    for j in os.listdir(folderPath):\n",
        "        img = cv2.imread(os.path.join(folderPath,j))\n",
        "        img = cv2.resize(img,(image_size,image_size))\n",
        "        X_train.append(img)\n",
        "        Y_train.append(i)\n",
        "\n",
        "X_train = np.array(X_train)\n",
        "Y_train = np.array(Y_train)"
      ],
      "metadata": {
        "execution": {
          "iopub.status.busy": "2022-11-19T07:30:28.973792Z",
          "iopub.execute_input": "2022-11-19T07:30:28.974194Z",
          "iopub.status.idle": "2022-11-19T07:30:55.367809Z",
          "shell.execute_reply.started": "2022-11-19T07:30:28.974144Z",
          "shell.execute_reply": "2022-11-19T07:30:55.366547Z"
        },
        "trusted": true,
        "id": "lJdqTZibEwK4"
      },
      "execution_count": null,
      "outputs": []
    },
    {
      "cell_type": "code",
      "source": [
        "X_train,Y_train = shuffle(X_train,Y_train,random_state=101)\n",
        "X_train.shape"
      ],
      "metadata": {
        "execution": {
          "iopub.status.busy": "2022-11-19T07:32:34.732643Z",
          "iopub.execute_input": "2022-11-19T07:32:34.733259Z",
          "iopub.status.idle": "2022-11-19T07:32:34.910597Z",
          "shell.execute_reply.started": "2022-11-19T07:32:34.733212Z",
          "shell.execute_reply": "2022-11-19T07:32:34.904661Z"
        },
        "trusted": true,
        "id": "5NbtS--LEwK4"
      },
      "execution_count": null,
      "outputs": []
    },
    {
      "cell_type": "raw",
      "source": [
        "Train test split"
      ],
      "metadata": {
        "id": "Ie8NIt9sEwK4"
      }
    },
    {
      "cell_type": "code",
      "source": [
        "X_train,X_test,y_train,y_test = train_test_split(X_train,Y_train,test_size=0.1,random_state=101)"
      ],
      "metadata": {
        "execution": {
          "iopub.status.busy": "2022-11-19T07:35:14.066783Z",
          "iopub.execute_input": "2022-11-19T07:35:14.067228Z",
          "iopub.status.idle": "2022-11-19T07:35:14.123077Z",
          "shell.execute_reply.started": "2022-11-19T07:35:14.067168Z",
          "shell.execute_reply": "2022-11-19T07:35:14.121936Z"
        },
        "trusted": true,
        "id": "JU8xhemuEwK4"
      },
      "execution_count": null,
      "outputs": []
    },
    {
      "cell_type": "code",
      "source": [
        "y_train_new = []\n",
        "for i in y_train:\n",
        "    y_train_new.append(labels.index(i))\n",
        "y_train=y_train_new\n",
        "y_train = tf.keras.utils.to_categorical(y_train)\n",
        "\n",
        "y_test_new = []\n",
        "for i in y_test:\n",
        "    y_test_new.append(labels.index(i))\n",
        "y_test=y_test_new\n",
        "y_test = tf.keras.utils.to_categorical(y_test)"
      ],
      "metadata": {
        "execution": {
          "iopub.status.busy": "2022-11-19T07:40:02.908265Z",
          "iopub.execute_input": "2022-11-19T07:40:02.908877Z",
          "iopub.status.idle": "2022-11-19T07:40:02.918091Z",
          "shell.execute_reply.started": "2022-11-19T07:40:02.908839Z",
          "shell.execute_reply": "2022-11-19T07:40:02.91695Z"
        },
        "trusted": true,
        "id": "rY2-UmZUEwK4"
      },
      "execution_count": null,
      "outputs": []
    },
    {
      "cell_type": "markdown",
      "source": [
        "Convolutional Neural Network"
      ],
      "metadata": {
        "id": "613qtq6cEwK4"
      }
    },
    {
      "cell_type": "code",
      "source": [
        "model = Sequential()\n",
        "model.add(Conv2D(32,(3,3),activation = 'relu',input_shape=(150,150,3)))\n",
        "model.add(Conv2D(64,(3,3),activation='relu'))\n",
        "model.add(MaxPooling2D(2,2))\n",
        "model.add(Dropout(0.3))\n",
        "model.add(Conv2D(64,(3,3),activation='relu'))\n",
        "model.add(Conv2D(64,(3,3),activation='relu'))\n",
        "model.add(Dropout(0.3))\n",
        "model.add(MaxPooling2D(2,2))\n",
        "model.add(Dropout(0.3))\n",
        "model.add(Conv2D(128,(3,3),activation='relu'))\n",
        "model.add(Conv2D(128,(3,3),activation='relu'))\n",
        "model.add(Conv2D(128,(3,3),activation='relu'))\n",
        "model.add(MaxPooling2D(2,2))\n",
        "model.add(Dropout(0.3))\n",
        "model.add(Conv2D(128,(3,3),activation='relu'))\n",
        "model.add(Conv2D(256,(3,3),activation='relu'))\n",
        "model.add(MaxPooling2D(2,2))\n",
        "model.add(Dropout(0.3))\n",
        "model.add(Flatten())\n",
        "model.add(Dense(512,activation = 'relu'))\n",
        "model.add(Dense(512,activation = 'relu'))\n",
        "model.add(Dropout(0.3))\n",
        "model.add(Dense(4,activation='softmax'))"
      ],
      "metadata": {
        "execution": {
          "iopub.status.busy": "2022-11-19T07:49:31.587909Z",
          "iopub.execute_input": "2022-11-19T07:49:31.588314Z",
          "iopub.status.idle": "2022-11-19T07:49:34.786974Z",
          "shell.execute_reply.started": "2022-11-19T07:49:31.58828Z",
          "shell.execute_reply": "2022-11-19T07:49:34.78593Z"
        },
        "trusted": true,
        "id": "nex_5Ue5EwLI"
      },
      "execution_count": null,
      "outputs": []
    },
    {
      "cell_type": "code",
      "source": [
        "model.summary()"
      ],
      "metadata": {
        "execution": {
          "iopub.status.busy": "2022-11-19T07:49:50.281096Z",
          "iopub.execute_input": "2022-11-19T07:49:50.28221Z",
          "iopub.status.idle": "2022-11-19T07:49:50.291252Z",
          "shell.execute_reply.started": "2022-11-19T07:49:50.282133Z",
          "shell.execute_reply": "2022-11-19T07:49:50.290239Z"
        },
        "trusted": true,
        "id": "AeKg6l9wEwLI"
      },
      "execution_count": null,
      "outputs": []
    },
    {
      "cell_type": "code",
      "source": [
        "model.compile(loss='categorical_crossentropy',optimizer='Adam',metrics=['accuracy'])"
      ],
      "metadata": {
        "execution": {
          "iopub.status.busy": "2022-11-19T07:51:48.274809Z",
          "iopub.execute_input": "2022-11-19T07:51:48.275238Z",
          "iopub.status.idle": "2022-11-19T07:51:48.28995Z",
          "shell.execute_reply.started": "2022-11-19T07:51:48.27515Z",
          "shell.execute_reply": "2022-11-19T07:51:48.288874Z"
        },
        "trusted": true,
        "id": "XFALxNpOEwLI"
      },
      "execution_count": null,
      "outputs": []
    },
    {
      "cell_type": "code",
      "source": [
        "history = model.fit(X_train,y_train,epochs=20,validation_split=0.1)"
      ],
      "metadata": {
        "execution": {
          "iopub.status.busy": "2022-11-19T07:53:06.572894Z",
          "iopub.execute_input": "2022-11-19T07:53:06.573289Z",
          "iopub.status.idle": "2022-11-19T07:54:29.85572Z",
          "shell.execute_reply.started": "2022-11-19T07:53:06.573254Z",
          "shell.execute_reply": "2022-11-19T07:54:29.854598Z"
        },
        "trusted": true,
        "id": "gbGM7MnrEwLI"
      },
      "execution_count": null,
      "outputs": []
    },
    {
      "cell_type": "code",
      "source": [
        "import matplotlib.pyplot as plt\n",
        "import seaborn as sns"
      ],
      "metadata": {
        "execution": {
          "iopub.status.busy": "2022-11-19T07:56:38.337268Z",
          "iopub.execute_input": "2022-11-19T07:56:38.337826Z",
          "iopub.status.idle": "2022-11-19T07:56:38.414947Z",
          "shell.execute_reply.started": "2022-11-19T07:56:38.337783Z",
          "shell.execute_reply": "2022-11-19T07:56:38.413785Z"
        },
        "trusted": true,
        "id": "Grd501-1EwLI"
      },
      "execution_count": null,
      "outputs": []
    },
    {
      "cell_type": "code",
      "source": [
        "#model.save('braintumor.h5')\n",
        "\n",
        "acc = history.history['accuracy']\n",
        "val_acc = history.history['val_accuracy']\n",
        "epochs = range(len(acc))\n",
        "fig = plt.figure(figsize=(14,7))\n",
        "plt.plot(epochs,acc,'r',label=\"Training Accuracy\")\n",
        "plt.plot(epochs,val_acc,'b',label=\"Validation Accuracy\")\n",
        "plt.legend(loc='upper left')\n",
        "plt.show()"
      ],
      "metadata": {
        "execution": {
          "iopub.status.busy": "2022-11-19T07:59:08.340664Z",
          "iopub.execute_input": "2022-11-19T07:59:08.341048Z",
          "iopub.status.idle": "2022-11-19T07:59:08.586066Z",
          "shell.execute_reply.started": "2022-11-19T07:59:08.341014Z",
          "shell.execute_reply": "2022-11-19T07:59:08.585137Z"
        },
        "trusted": true,
        "id": "nSsSbTCmEwLI"
      },
      "execution_count": null,
      "outputs": []
    },
    {
      "cell_type": "code",
      "source": [
        "loss = history.history['loss']\n",
        "val_loss = history.history['val_loss']\n",
        "epochs = range(len(loss))\n",
        "fig = plt.figure(figsize=(14,7))\n",
        "plt.plot(epochs,loss,'r',label=\"Training loss\")\n",
        "plt.plot(epochs,val_loss,'b',label=\"Validation loss\")\n",
        "plt.legend(loc='upper left')\n",
        "plt.show()"
      ],
      "metadata": {
        "execution": {
          "iopub.status.busy": "2022-11-19T08:00:16.058966Z",
          "iopub.execute_input": "2022-11-19T08:00:16.059362Z",
          "iopub.status.idle": "2022-11-19T08:00:16.289095Z",
          "shell.execute_reply.started": "2022-11-19T08:00:16.059328Z",
          "shell.execute_reply": "2022-11-19T08:00:16.288046Z"
        },
        "trusted": true,
        "id": "n1wLjzGUEwLI"
      },
      "execution_count": null,
      "outputs": []
    },
    {
      "cell_type": "markdown",
      "source": [
        "Prediction"
      ],
      "metadata": {
        "id": "Ioe-EW6iEwLI"
      }
    },
    {
      "cell_type": "code",
      "source": [
        "img = cv2.imread('../input/brain-tumor-classification-mri/Training/pituitary_tumor/p (107).jpg')\n",
        "img = cv2.resize(img,(150,150))\n",
        "img_array = np.array(img)\n",
        "img_array.shape"
      ],
      "metadata": {
        "execution": {
          "iopub.status.busy": "2022-11-19T08:02:27.811Z",
          "iopub.execute_input": "2022-11-19T08:02:27.811444Z",
          "iopub.status.idle": "2022-11-19T08:02:27.836705Z",
          "shell.execute_reply.started": "2022-11-19T08:02:27.811404Z",
          "shell.execute_reply": "2022-11-19T08:02:27.835457Z"
        },
        "trusted": true,
        "id": "2yYF4m7KEwLI"
      },
      "execution_count": null,
      "outputs": []
    },
    {
      "cell_type": "code",
      "source": [
        "img_array = img_array.reshape(1,150,150,3)\n",
        "img_array.shape"
      ],
      "metadata": {
        "execution": {
          "iopub.status.busy": "2022-11-19T08:03:03.760314Z",
          "iopub.execute_input": "2022-11-19T08:03:03.761043Z",
          "iopub.status.idle": "2022-11-19T08:03:03.767644Z",
          "shell.execute_reply.started": "2022-11-19T08:03:03.761003Z",
          "shell.execute_reply": "2022-11-19T08:03:03.766627Z"
        },
        "trusted": true,
        "id": "5CmHqn99EwLI"
      },
      "execution_count": null,
      "outputs": []
    },
    {
      "cell_type": "code",
      "source": [
        "from tensorflow.keras.preprocessing import image\n",
        "img = image.load_img('../input/brain-tumor-classification-mri/Training/pituitary_tumor/p (107).jpg')\n",
        "plt.imshow(img,interpolation='nearest')\n",
        "plt.show()"
      ],
      "metadata": {
        "execution": {
          "iopub.status.busy": "2022-11-19T08:04:17.672532Z",
          "iopub.execute_input": "2022-11-19T08:04:17.672961Z",
          "iopub.status.idle": "2022-11-19T08:04:17.900139Z",
          "shell.execute_reply.started": "2022-11-19T08:04:17.672925Z",
          "shell.execute_reply": "2022-11-19T08:04:17.899171Z"
        },
        "trusted": true,
        "id": "yMOb2aBmEwLI"
      },
      "execution_count": null,
      "outputs": []
    },
    {
      "cell_type": "code",
      "source": [
        "a=model.predict(img_array)\n",
        "indices = a.argmax()\n",
        "indices"
      ],
      "metadata": {
        "execution": {
          "iopub.status.busy": "2022-11-19T08:05:21.269023Z",
          "iopub.execute_input": "2022-11-19T08:05:21.269738Z",
          "iopub.status.idle": "2022-11-19T08:05:21.520121Z",
          "shell.execute_reply.started": "2022-11-19T08:05:21.269701Z",
          "shell.execute_reply": "2022-11-19T08:05:21.519186Z"
        },
        "trusted": true,
        "id": "_-qPqoE6EwLI"
      },
      "execution_count": null,
      "outputs": []
    }
  ]
}